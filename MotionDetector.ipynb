{
 "cells": [
  {
   "cell_type": "code",
   "execution_count": null,
   "metadata": {},
   "outputs": [],
   "source": [
    "import cv2,numpy,time\n",
    "firstFrame= None\n",
    "video=cv2.VideoCapture(0)\n",
    "while True:\n",
    "    check,frame= video.read()\n",
    "    gray =cv2.cvtColor(frame, cv2.COLOR_BGR2GRAY)\n",
    "    gray=cv2.GaussianBlur (gray,(21,21),0)\n",
    "    \n",
    "    if firstFrame is None:\n",
    "        firstFrame=gray\n",
    "        continue;\n",
    "        \n",
    "    deltaFrame = cv2.absdiff(firstFrame, gray)\n",
    "    thresh_delta = cv2.threshold (deltaFrame , 90 ,255 ,cv2.THRESH_BINARY)[1]\n",
    "    thresh_delta = cv2.dilate(thresh_delta , None , iterations=0)\n",
    "    \n",
    "    cnts,heirachy = cv2.findContours (thresh_delta.copy(),cv2.RETR_EXTERNAL, cv2.CHAIN_APPROX_SIMPLE)\n",
    "\n",
    "    \n",
    "    #   print(\"hello\")\n",
    "    for contour in cnts:\n",
    "        if cv2.contourArea(contour)<500:\n",
    "            continue\n",
    "        (x,y,w,h) =cv2.boundingRect (contour)\n",
    "        cv2.rectangle(frame, (x,y),(x+w,y+h),(0,255,0),3)\n",
    "    \n",
    "    cv2.imshow('frame',frame)\n",
    "    cv2.imshow('Capturing',gray)\n",
    "    cv2.imshow('delta',deltaFrame)\n",
    "    cv2.imshow('thresh_delta',thresh_delta)\n",
    "    key=cv2.waitKey(1)\n",
    "    if key== ord('q'):\n",
    "            break\n",
    "video.release()\n",
    "cv2.destroyAllWindows"
   ]
  },
  {
   "cell_type": "code",
   "execution_count": null,
   "metadata": {},
   "outputs": [],
   "source": []
  },
  {
   "cell_type": "code",
   "execution_count": null,
   "metadata": {},
   "outputs": [],
   "source": []
  }
 ],
 "metadata": {
  "kernelspec": {
   "display_name": "Python 3",
   "language": "python",
   "name": "python3"
  },
  "language_info": {
   "codemirror_mode": {
    "name": "ipython",
    "version": 3
   },
   "file_extension": ".py",
   "mimetype": "text/x-python",
   "name": "python",
   "nbconvert_exporter": "python",
   "pygments_lexer": "ipython3",
   "version": "3.7.1"
  }
 },
 "nbformat": 4,
 "nbformat_minor": 2
}

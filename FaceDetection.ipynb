{
 "cells": [
  {
   "cell_type": "code",
   "execution_count": 80,
   "metadata": {},
   "outputs": [],
   "source": [
    "import cv2\n",
    "import numpy\n",
    "img= cv2.imread(\"C:\\\\Users\\\\ak47\\\\Downloads\\\\DP.jpg\",1)\n",
    "#1 for colour img and 0 for grey img\n",
    "#print(img)\n",
    "#print(type(img))\n",
    "#print(img.shape)\n",
    "\n",
    "cv2.imshow(\"legend\",img)\n",
    "cv2.waitKey(2000)\n",
    "cv2.destroyAllWindows()\n",
    "            "
   ]
  },
  {
   "cell_type": "code",
   "execution_count": 45,
   "metadata": {},
   "outputs": [],
   "source": [
    "\n",
    "img= cv2.imread(\"C:\\\\Users\\\\ak47\\\\Downloads\\\\DP.jpg\")\n",
    "#print(type,img.shape)\n",
    "resized=cv2.resize(img, (int(img.shape[1]/2),int (img.shape[0]/2)))\n",
    "cv2.imshow(\"lgend\",resized)\n",
    "cv2.waitKey(2000)\n",
    "#waitKey(0 ) wait for character input\n",
    "cv2.destroyAllWindows()"
   ]
  },
  {
   "cell_type": "code",
   "execution_count": 101,
   "metadata": {},
   "outputs": [],
   "source": [
    "face1 = cv2.CascadeClassifier(\"C:\\\\Users\\\\haarcascade_frontalface_default.xml\")\n",
    "img= cv2.imread(\"C:\\\\Users\\\\ak47\\\\Downloads\\\\dp.jpg\",1)\n",
    "#cv2.imshow(\"helo\",img)\n",
    "# print(type(face1))\n",
    "gray_img=cv2.cvtColor(img, cv2.COLOR_BGR2GRAY)\n",
    "#cv2.imgshow(\"helo\",img)\n",
    "#cv2.waitKey(0)\n",
    "\n",
    "faces=face1.detectMultiScale(gray_img, scaleFactor= 1.05, minNeighbors=5)\n",
    "\n",
    "for x,y,w,h in faces:\n",
    "     img=cv2.rectangle(img,(x,y),(x+w,y+h),(0,255,0),3)\n",
    "cv2.imshow(\"hw\",img)\n",
    "cv2.waitKey(0)\n",
    "cv2.destroyAllWindows()\n"
   ]
  }
 ],
 "metadata": {
  "kernelspec": {
   "display_name": "Python 3",
   "language": "python",
   "name": "python3"
  },
  "language_info": {
   "codemirror_mode": {
    "name": "ipython",
    "version": 3
   },
   "file_extension": ".py",
   "mimetype": "text/x-python",
   "name": "python",
   "nbconvert_exporter": "python",
   "pygments_lexer": "ipython3",
   "version": "3.7.1"
  }
 },
 "nbformat": 4,
 "nbformat_minor": 2
}

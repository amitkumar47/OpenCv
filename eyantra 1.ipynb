{
 "cells": [
  {
   "cell_type": "markdown",
   "metadata": {},
   "source": [
    "import numpy as np\n",
    "import cv2\n",
    "img=cv2.imread(\"C:\\\\Users\\\\Acer\\\\Downloads\\\\2. Practice\\\\Task 1A\\\\task_1a_images\\\\maze01.jpg\", 1)\n",
    "\n",
    "#CONVERTING TO GRAY AND THEN BINARY\n",
    "gray = cv2.cvtColor(img, cv2.COLOR_BGR2GRAY)\n",
    "ret, binary = cv2.threshold(gray,10,255,cv2.THRESH_BINARY)\n",
    "print(binary.shape)\n",
    "\n",
    "#choosing a block of the full image named as target\n",
    "target=binary[0:20,0:20]\n",
    "\n",
    "#checking for the upper wall\n",
    "if target[0,10]==0:\n",
    "    print(\"top\")\n",
    "\n",
    "#checking for the bottom wall\n",
    "if target[19,10]==0:\n",
    "    print(\"bottom\")\n",
    "    \n",
    "#checking for the left wall\n",
    "if target[10,0]==0:\n",
    "    print(\"left\")\n",
    "\n",
    "#checking for the right wall  \n",
    "if target[19,10]==0:\n",
    "    print(\"bottom\")\n",
    "\n",
    "cv2.imshow('BINARY',binary[0:20,20:40])\n",
    "cv2.waitKey(0)\n",
    "cv2.destroyAllWindows()"
   ]
  },
  {
   "cell_type": "code",
   "execution_count": 63,
   "metadata": {},
   "outputs": [
    {
     "name": "stdout",
     "output_type": "stream",
     "text": [
      "(200, 200)\n",
      "top\n",
      "left\n"
     ]
    }
   ],
   "source": [
    "import numpy as np\n",
    "import cv2 \n",
    "img=cv2.imread(\"C:\\\\Users\\\\Acer\\\\Downloads\\\\2. Practice\\\\Task 1A\\\\task_1a_images\\\\maze01.jpg\", 1)\n",
    "\n",
    "#CONVERTING TO GRAY AND THEN BINARY \n",
    "gray = cv2.cvtColor(img, cv2.COLOR_BGR2GRAY) \n",
    "ret, binary = cv2.threshold(gray,10,255,cv2.THRESH_BINARY) \n",
    "print(binary.shape)\n",
    "\n",
    "#choosing a block of the full image named as target \n",
    "x=0\n",
    "y=0\n",
    "target=binary[x:x+20,y:y+20]\n",
    "\n",
    "#checking for the upper wall \n",
    "if target[x,y+10]==0:\n",
    "    print(\"top\")\n",
    "\n",
    "#checking for the bottom wall \n",
    "if target[x+19,y+10]==0:\n",
    "    print(\"bottom\")\n",
    "\n",
    "#checking for the left wall \n",
    "if target[x+10,y]==0:\n",
    "    print(\"left\")\n",
    "\n",
    "#checking for the right wall\n",
    "if target[x+19,y+10]==0:\n",
    "    print(\"right\")\n",
    "\n",
    "cv2.imshow('Target',target) \n",
    "cv2.waitKey(0) \n",
    "cv2.destroyAllWindows()\n"
   ]
  },
  {
   "cell_type": "code",
   "execution_count": null,
   "metadata": {},
   "outputs": [],
   "source": []
  }
 ],
 "metadata": {
  "kernelspec": {
   "display_name": "Python 3",
   "language": "python",
   "name": "python3"
  },
  "language_info": {
   "codemirror_mode": {
    "name": "ipython",
    "version": 3
   },
   "file_extension": ".py",
   "mimetype": "text/x-python",
   "name": "python",
   "nbconvert_exporter": "python",
   "pygments_lexer": "ipython3",
   "version": "3.7.3"
  }
 },
 "nbformat": 4,
 "nbformat_minor": 2
}
